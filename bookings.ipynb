{
 "cells": [
  {
   "cell_type": "code",
   "execution_count": 12,
   "metadata": {},
   "outputs": [
    {
     "data": {
      "text/html": [
       "<div>\n",
       "<style scoped>\n",
       "    .dataframe tbody tr th:only-of-type {\n",
       "        vertical-align: middle;\n",
       "    }\n",
       "\n",
       "    .dataframe tbody tr th {\n",
       "        vertical-align: top;\n",
       "    }\n",
       "\n",
       "    .dataframe thead th {\n",
       "        text-align: right;\n",
       "    }\n",
       "</style>\n",
       "<table border=\"1\" class=\"dataframe\">\n",
       "  <thead>\n",
       "    <tr style=\"text-align: right;\">\n",
       "      <th></th>\n",
       "      <th>ID</th>\n",
       "      <th>Sales Segment</th>\n",
       "      <th>Global Region</th>\n",
       "      <th>Industry</th>\n",
       "      <th>Booking Date Date</th>\n",
       "      <th>Lead Source</th>\n",
       "      <th>Type</th>\n",
       "      <th>Reporting Type Reason</th>\n",
       "      <th>Stage Name</th>\n",
       "      <th>Source</th>\n",
       "      <th>Number of Employees</th>\n",
       "      <th>Is Customer (Yes / No)</th>\n",
       "      <th>Created Date</th>\n",
       "      <th>Tenure Months</th>\n",
       "      <th>Total ARR</th>\n",
       "    </tr>\n",
       "  </thead>\n",
       "  <tbody>\n",
       "    <tr>\n",
       "      <th>0</th>\n",
       "      <td>1</td>\n",
       "      <td>Enterprise</td>\n",
       "      <td>NaN</td>\n",
       "      <td>Internet Software &amp; Services</td>\n",
       "      <td>2024-06-27</td>\n",
       "      <td>Website</td>\n",
       "      <td>New Deal</td>\n",
       "      <td>New</td>\n",
       "      <td>Disqualified</td>\n",
       "      <td>Website</td>\n",
       "      <td>10,001</td>\n",
       "      <td>Yes</td>\n",
       "      <td>2019-05-14</td>\n",
       "      <td>15 Months</td>\n",
       "      <td>$0.00</td>\n",
       "    </tr>\n",
       "    <tr>\n",
       "      <th>1</th>\n",
       "      <td>2</td>\n",
       "      <td>Enterprise</td>\n",
       "      <td>NaN</td>\n",
       "      <td>Internet Software &amp; Services</td>\n",
       "      <td>2020-09-30</td>\n",
       "      <td>SalesLoft</td>\n",
       "      <td>New Deal</td>\n",
       "      <td>New</td>\n",
       "      <td>Closed Lost</td>\n",
       "      <td>SalesLoft</td>\n",
       "      <td>3,100</td>\n",
       "      <td>No</td>\n",
       "      <td>2018-04-27</td>\n",
       "      <td>15 Months</td>\n",
       "      <td>$0.00</td>\n",
       "    </tr>\n",
       "    <tr>\n",
       "      <th>2</th>\n",
       "      <td>3</td>\n",
       "      <td>Emerging</td>\n",
       "      <td>NaN</td>\n",
       "      <td>NaN</td>\n",
       "      <td>2020-07-31</td>\n",
       "      <td>NaN</td>\n",
       "      <td>New Deal</td>\n",
       "      <td>New</td>\n",
       "      <td>Closed Lost</td>\n",
       "      <td>NaN</td>\n",
       "      <td>NaN</td>\n",
       "      <td>No</td>\n",
       "      <td>2019-03-22</td>\n",
       "      <td>47 Months</td>\n",
       "      <td>$102K</td>\n",
       "    </tr>\n",
       "    <tr>\n",
       "      <th>3</th>\n",
       "      <td>4</td>\n",
       "      <td>Emerging</td>\n",
       "      <td>NaN</td>\n",
       "      <td>NaN</td>\n",
       "      <td>2020-06-30</td>\n",
       "      <td>NaN</td>\n",
       "      <td>New Deal</td>\n",
       "      <td>New</td>\n",
       "      <td>Closed Lost</td>\n",
       "      <td>NaN</td>\n",
       "      <td>NaN</td>\n",
       "      <td>No</td>\n",
       "      <td>2019-11-27</td>\n",
       "      <td>47 Months</td>\n",
       "      <td>$11K</td>\n",
       "    </tr>\n",
       "    <tr>\n",
       "      <th>4</th>\n",
       "      <td>5</td>\n",
       "      <td>Emerging</td>\n",
       "      <td>NaN</td>\n",
       "      <td>Business Services</td>\n",
       "      <td>2020-06-30</td>\n",
       "      <td>NaN</td>\n",
       "      <td>New Deal</td>\n",
       "      <td>New</td>\n",
       "      <td>Closed Lost</td>\n",
       "      <td>NaN</td>\n",
       "      <td>NaN</td>\n",
       "      <td>No</td>\n",
       "      <td>2019-10-23</td>\n",
       "      <td>47 Months</td>\n",
       "      <td>$8K</td>\n",
       "    </tr>\n",
       "  </tbody>\n",
       "</table>\n",
       "</div>"
      ],
      "text/plain": [
       "   ID Sales Segment Global Region                      Industry  \\\n",
       "0   1    Enterprise           NaN  Internet Software & Services   \n",
       "1   2    Enterprise           NaN  Internet Software & Services   \n",
       "2   3      Emerging           NaN                           NaN   \n",
       "3   4      Emerging           NaN                           NaN   \n",
       "4   5      Emerging           NaN             Business Services   \n",
       "\n",
       "  Booking Date Date Lead Source      Type Reporting Type Reason    Stage Name  \\\n",
       "0        2024-06-27     Website  New Deal                   New  Disqualified   \n",
       "1        2020-09-30   SalesLoft  New Deal                   New   Closed Lost   \n",
       "2        2020-07-31         NaN  New Deal                   New   Closed Lost   \n",
       "3        2020-06-30         NaN  New Deal                   New   Closed Lost   \n",
       "4        2020-06-30         NaN  New Deal                   New   Closed Lost   \n",
       "\n",
       "      Source Number of Employees Is Customer (Yes / No) Created Date  \\\n",
       "0    Website              10,001                    Yes   2019-05-14   \n",
       "1  SalesLoft               3,100                     No   2018-04-27   \n",
       "2        NaN                 NaN                     No   2019-03-22   \n",
       "3        NaN                 NaN                     No   2019-11-27   \n",
       "4        NaN                 NaN                     No   2019-10-23   \n",
       "\n",
       "  Tenure Months Total ARR  \n",
       "0     15 Months     $0.00  \n",
       "1     15 Months     $0.00  \n",
       "2     47 Months     $102K  \n",
       "3     47 Months      $11K  \n",
       "4     47 Months       $8K  "
      ]
     },
     "execution_count": 12,
     "metadata": {},
     "output_type": "execute_result"
    }
   ],
   "source": [
    "import pandas as pd\n",
    "import matplotlib.pyplot as plt\n",
    "import matplotlib.dates as mdates\n",
    "import warnings  # Hide unnecessary warnings in outputs\n",
    "warnings.filterwarnings(\"ignore\", category=pd.errors.SettingWithCopyWarning)\n",
    "\n",
    "pd.set_option('display.max_columns', None)\n",
    "\n",
    "bookings_df = pd.read_csv('Bookings_Data.csv')\n",
    "bookings_df.head()"
   ]
  },
  {
   "cell_type": "code",
   "execution_count": 13,
   "metadata": {},
   "outputs": [
    {
     "name": "stdout",
     "output_type": "stream",
     "text": [
      "<class 'pandas.core.frame.DataFrame'>\n",
      "RangeIndex: 3699 entries, 0 to 3698\n",
      "Data columns (total 15 columns):\n",
      " #   Column                  Non-Null Count  Dtype \n",
      "---  ------                  --------------  ----- \n",
      " 0   ID                      3699 non-null   int64 \n",
      " 1   Sales Segment           3699 non-null   object\n",
      " 2   Global Region           524 non-null    object\n",
      " 3   Industry                3331 non-null   object\n",
      " 4   Booking Date Date       3699 non-null   object\n",
      " 5   Lead Source             1170 non-null   object\n",
      " 6   Type                    3699 non-null   object\n",
      " 7   Reporting Type Reason   3676 non-null   object\n",
      " 8   Stage Name              3699 non-null   object\n",
      " 9   Source                  1170 non-null   object\n",
      " 10  Number of Employees     3125 non-null   object\n",
      " 11  Is Customer (Yes / No)  3699 non-null   object\n",
      " 12  Created Date            3699 non-null   object\n",
      " 13  Tenure Months           3693 non-null   object\n",
      " 14  Total ARR               3699 non-null   object\n",
      "dtypes: int64(1), object(14)\n",
      "memory usage: 433.6+ KB\n"
     ]
    }
   ],
   "source": [
    "bookings_df.info()"
   ]
  },
  {
   "cell_type": "code",
   "execution_count": 14,
   "metadata": {},
   "outputs": [
    {
     "name": "stdout",
     "output_type": "stream",
     "text": [
      "0   2024-06-27\n",
      "1   2020-09-30\n",
      "2   2020-07-31\n",
      "3   2020-06-30\n",
      "4   2020-06-30\n",
      "Name: Booking Date Date, dtype: datetime64[ns]\n",
      "<class 'pandas.core.frame.DataFrame'>\n",
      "RangeIndex: 3699 entries, 0 to 3698\n",
      "Data columns (total 16 columns):\n",
      " #   Column                  Non-Null Count  Dtype         \n",
      "---  ------                  --------------  -----         \n",
      " 0   ID                      3699 non-null   int64         \n",
      " 1   Sales Segment           3699 non-null   object        \n",
      " 2   Global Region           524 non-null    object        \n",
      " 3   Industry                3331 non-null   object        \n",
      " 4   Booking Date Date       3699 non-null   datetime64[ns]\n",
      " 5   Lead Source             1170 non-null   object        \n",
      " 6   Type                    3699 non-null   object        \n",
      " 7   Reporting Type Reason   3676 non-null   object        \n",
      " 8   Stage Name              3699 non-null   object        \n",
      " 9   Source                  1170 non-null   object        \n",
      " 10  Number of Employees     3125 non-null   object        \n",
      " 11  Is Customer (Yes / No)  3699 non-null   object        \n",
      " 12  Created Date            3699 non-null   object        \n",
      " 13  Tenure Months           3693 non-null   object        \n",
      " 14  Total ARR               3699 non-null   object        \n",
      " 15  opportunity_status      3699 non-null   object        \n",
      "dtypes: datetime64[ns](1), int64(1), object(14)\n",
      "memory usage: 462.5+ KB\n",
      "None\n"
     ]
    }
   ],
   "source": [
    "# Cleaning the Data\n",
    "bookings_df = bookings_df.drop_duplicates()\n",
    "bookings_df = bookings_df.dropna(subset=['Stage Name', 'ID']) # These two columns are essential for this analysis\n",
    "\n",
    "# Converting the text column to date format\n",
    "bookings_df['Booking Date Date'] = pd.to_datetime(bookings_df['Booking Date Date'])\n",
    "\n",
    "# Adding a column for the opportunity status (Closed-Won)\n",
    "bookings_df['opportunity_status'] = bookings_df['Stage Name'].apply(lambda x: 'Closed-Won' if x == 'Closed Won' else x)\n",
    "\n",
    "# Confirm the column has been converted correctly\n",
    "print(bookings_df['Booking Date Date'].head())\n",
    "print(bookings_df.info())"
   ]
  },
  {
   "cell_type": "code",
   "execution_count": 15,
   "metadata": {},
   "outputs": [
    {
     "name": "stdout",
     "output_type": "stream",
     "text": [
      "Closing rate: 79.59%\n"
     ]
    }
   ],
   "source": [
    "# Calculate the overall closing rate\n",
    "closed_won = bookings_df[bookings_df['opportunity_status'] == 'Closed-Won'].shape[0]\n",
    "total_opportunities = bookings_df['ID'].nunique()\n",
    "close_rate = closed_won / total_opportunities * 100  # Convert to percentage\n",
    "\n",
    "# Display the closing rate as a percentage\n",
    "close_rate_percentage_formatted = f\"Closing rate: {close_rate:.2f}%\"\n",
    "print(close_rate_percentage_formatted)"
   ]
  },
  {
   "cell_type": "code",
   "execution_count": 16,
   "metadata": {},
   "outputs": [
    {
     "name": "stdout",
     "output_type": "stream",
     "text": [
      "<DatetimeArray>\n",
      "['2024-06-27 00:00:00', '2020-09-30 00:00:00', '2020-07-31 00:00:00',\n",
      " '2020-06-30 00:00:00', '2020-05-31 00:00:00', '2020-05-29 00:00:00',\n",
      " '2020-05-27 00:00:00', '2020-05-01 00:00:00', '2020-04-30 00:00:00',\n",
      " '2020-04-21 00:00:00',\n",
      " ...\n",
      " '2019-03-12 00:00:00', '2019-03-11 00:00:00', '2019-03-10 00:00:00',\n",
      " '2019-03-09 00:00:00', '2019-03-08 00:00:00', '2019-03-07 00:00:00',\n",
      " '2019-03-06 00:00:00', '2019-03-05 00:00:00', '2019-03-04 00:00:00',\n",
      " '2019-03-01 00:00:00']\n",
      "Length: 318, dtype: datetime64[ns]\n"
     ]
    }
   ],
   "source": [
    "# Check the unique dates\n",
    "unique_dates = bookings_df['Booking Date Date'].unique()\n",
    "print(unique_dates)"
   ]
  },
  {
   "cell_type": "code",
   "execution_count": 17,
   "metadata": {},
   "outputs": [
    {
     "data": {
      "image/png": "[encoded data removed]",
      "text/plain": [
       "<Figure size 1200x600 with 1 Axes>"
      ]
     },
     "metadata": {},
     "output_type": "display_data"
    }
   ],
   "source": [
    "# Convert the date column to monthly periods for more detailed analysis\n",
    "bookings_df['Booking Month'] = bookings_df['Booking Date Date'].dt.to_period('M')\n",
    "\n",
    "# Monthly analysis of the closing rate\n",
    "monthly_data = bookings_df.groupby('Booking Month').agg({\n",
    "    'ID': 'nunique',\n",
    "    'opportunity_status': lambda x: (x == 'Closed-Won').sum()\n",
    "}).rename(columns={'ID': 'total_opportunities', 'opportunity_status': 'closed_won'})\n",
    "\n",
    "monthly_data['close_rate'] = (monthly_data['closed_won'] / monthly_data['total_opportunities']) * 100\n",
    "\n",
    "# Convert 'Booking Month' to datetime for accurate plotting\n",
    "monthly_data.index = monthly_data.index.to_timestamp()\n",
    "\n",
    "# Visualize the monthly closing rate\n",
    "fig, ax = plt.subplots(figsize=(12, 6))\n",
    "monthly_data['close_rate'].plot(kind='line', title='Tasa de Cierre Mensual', ax=ax)\n",
    "ax.set_ylabel('Tasa de Cierre (%)')\n",
    "ax.set_xlabel('Mes')\n",
    "\n",
    "# Format x-axis labels to show month and year, reducing the number of labels\n",
    "ax.xaxis.set_major_formatter(mdates.DateFormatter('%Y-%m'))\n",
    "ax.xaxis.set_major_locator(mdates.MonthLocator(interval=3))  # Display a label every three months\n",
    "\n",
    "plt.xticks(rotation=45)  # Rotate x-axis labels for clarity\n",
    "plt.show()"
   ]
  },
  {
   "cell_type": "markdown",
   "metadata": {},
   "source": [
    "There seem to be outliers. Let's dig deeper by counting the Opportunities by Year and Status:"
   ]
  },
  {
   "cell_type": "code",
   "execution_count": 18,
   "metadata": {},
   "outputs": [
    {
     "name": "stdout",
     "output_type": "stream",
     "text": [
      "Year\n",
      "2019    2892\n",
      "2020     806\n",
      "2024       1\n",
      "Name: count, dtype: int64\n"
     ]
    }
   ],
   "source": [
    "# Extract the year from the date column\n",
    "bookings_df['Year'] = bookings_df['Booking Date Date'].dt.year\n",
    "\n",
    "# Count the number of opportunities per year\n",
    "opportunities_per_year = bookings_df['Year'].value_counts().sort_index()\n",
    "print(opportunities_per_year)\n"
   ]
  },
  {
   "cell_type": "markdown",
   "metadata": {},
   "source": [
    "There's a significant drop in the number of opportunities after 2019. This suggests that data post-2019 might be incomplete or not recorded correctly."
   ]
  },
  {
   "cell_type": "code",
   "execution_count": 19,
   "metadata": {},
   "outputs": [
    {
     "name": "stdout",
     "output_type": "stream",
     "text": [
      "opportunity_status  Closed Lost  Closed-Won  Disqualified\n",
      "Year                                                     \n",
      "2019                        444        2344           104\n",
      "2020                        164         600            42\n",
      "2024                          0           0             1\n"
     ]
    }
   ],
   "source": [
    "# Count the number of opportunities by year and status\n",
    "opportunity_status_per_year = bookings_df.groupby(['Year', 'opportunity_status']).size().unstack(fill_value=0)\n",
    "print(opportunity_status_per_year)\n"
   ]
  },
  {
   "cell_type": "markdown",
   "metadata": {},
   "source": [
    "* The number of recorded opportunities drops significantly after 2019. This might indicate an issue with data collection, especially since there's only one opportunity recorded for 2024.\n",
    "\n",
    "* For 2024, there's only one opportunity recorded, and it's in Disqualified status. This suggests that the 2024 data may be incomplete or that the opportunity recording process has not been properly conducted.\n"
   ]
  },
  {
   "cell_type": "markdown",
   "metadata": {},
   "source": [
    "_ _ _"
   ]
  },
  {
   "cell_type": "markdown",
   "metadata": {},
   "source": [
    "## Recommendations Based on the Data\n",
    "\n",
    "* Investigate the data collection and recording processes starting from 2020 to identify potential issues and ensure all opportunities are properly recorded.\n",
    "  \n",
    "#### Data Integrity Verification:\n",
    "\n",
    "* Conduct a data audit to ensure integrity, particularly for the years after 2019.\n",
    "\n",
    "* Train the staff responsible for data entry and enhance processes to prevent errors and ensure more robust data collection."
   ]
  },
  {
   "cell_type": "markdown",
   "metadata": {},
   "source": [
    "_ _ _"
   ]
  },
  {
   "cell_type": "markdown",
   "metadata": {},
   "source": [
    "## Additional\n",
    "To identify possible correlations that may have influenced the closing rate before the drastic drop, we will conduct exploratory data analysis and use some statistical techniques."
   ]
  },
  {
   "cell_type": "code",
   "execution_count": 22,
   "metadata": {},
   "outputs": [
    {
     "name": "stdout",
     "output_type": "stream",
     "text": [
      "      ID Sales Segment Global Region                      Industry  \\\n",
      "807  808      Emerging           NaN                      Internet   \n",
      "808  809           SMB           NaN  Internet Software & Services   \n",
      "809  810           SMB           NaN  Internet Software & Services   \n",
      "810  811      Emerging           NaN                           NaN   \n",
      "811  812           SMB           NaN  Internet Software & Services   \n",
      "\n",
      "    Booking Date Date             Lead Source      Type Reporting Type Reason  \\\n",
      "807        2019-12-31                     NaN  New Deal                   New   \n",
      "808        2019-12-31                     NaN   Upgrade               Upgrade   \n",
      "809        2019-12-31  SalesLoft (Prospector)  New Deal                   New   \n",
      "810        2019-12-31                ZoomInfo  New Deal                   New   \n",
      "811        2019-12-31             Data Vendor  New Deal                   New   \n",
      "\n",
      "       Stage Name                  Source Number of Employees  \\\n",
      "807    Closed Won                     NaN                 NaN   \n",
      "808  Disqualified                     NaN                  18   \n",
      "809   Closed Lost  SalesLoft (Prospector)                 375   \n",
      "810    Closed Won                ZoomInfo                 NaN   \n",
      "811    Closed Won             Data Vendor                  30   \n",
      "\n",
      "    Is Customer (Yes / No) Created Date Tenure Months Total ARR  \\\n",
      "807                    Yes   2019-12-17      7 Months      $21K   \n",
      "808                    Yes   2019-09-12     60 Months     $0.00   \n",
      "809                     No   2019-10-23     47 Months       $6K   \n",
      "810                    Yes   2019-12-11     58 Months       $8K   \n",
      "811                     No   2019-11-20     31 Months      $15K   \n",
      "\n",
      "    opportunity_status Booking Month  Year  \n",
      "807         Closed-Won       2019-12  2019  \n",
      "808       Disqualified       2019-12  2019  \n",
      "809        Closed Lost       2019-12  2019  \n",
      "810         Closed-Won       2019-12  2019  \n",
      "811         Closed-Won       2019-12  2019  \n",
      "[2019]\n"
     ]
    }
   ],
   "source": [
    "# Filter data before 2020\n",
    "bookings_df_pre_2020 = bookings_df[bookings_df['Year'] < 2020]\n",
    "\n",
    "# Verify the first records to ensure the filter was applied correctly\n",
    "print(bookings_df_pre_2020.head())\n",
    "print(bookings_df_pre_2020['Year'].unique())  # Aseguramos de que solo hay años antes de 2020"
   ]
  },
  {
   "cell_type": "code",
   "execution_count": 21,
   "metadata": {},
   "outputs": [
    {
     "name": "stdout",
     "output_type": "stream",
     "text": [
      "is_closed_won                             1.000000\n",
      "Reporting Type Reason_Upgrade             0.178023\n",
      "Type_Upgrade                              0.172804\n",
      "Global Region_EMEA                        0.045380\n",
      "Reporting Type Reason_Billing Transfer    0.040349\n",
      "                                            ...   \n",
      "Industry_Professional Services           -0.061518\n",
      "Lead Source_LeadIQ                       -0.073924\n",
      "ID                                       -0.101792\n",
      "Reporting Type Reason_New                -0.173626\n",
      "Type_New Deal                            -0.180155\n",
      "Name: is_closed_won, Length: 143, dtype: float64\n"
     ]
    }
   ],
   "source": [
    "# Create a binary column to indicate whether the opportunity was closed (Closed-Won) or not\n",
    "bookings_df_pre_2020['is_closed_won'] = bookings_df_pre_2020['opportunity_status'].apply(lambda x: 1 if x == 'Closed-Won' else 0)\n",
    "\n",
    "# Convert all categorical variables to dummies for statistical testing\n",
    "bookings_df_pre_2020_dummies = pd.get_dummies(bookings_df_pre_2020, columns=['Sales Segment', 'Industry', 'Global Region', 'Lead Source', 'Type', 'Reporting Type Reason'],drop_first=True)\n",
    "\n",
    "# Remove additional non-numeric columns\n",
    "columns_to_drop = ['Booking Date Date', 'Stage Name', 'Source', 'Number of Employees', 'Is Customer (Yes / No)', 'Created Date', 'Tenure Months', 'Total ARR', 'opportunity_status', 'Booking Month', 'Year']\n",
    "bookings_df_pre_2020_dummies = bookings_df_pre_2020_dummies.drop(columns=columns_to_drop, errors='ignore')\n",
    "\n",
    "# Calculate correlations with the closing rate\n",
    "correlation_matrix = bookings_df_pre_2020_dummies.corr()\n",
    "close_rate_correlation = correlation_matrix['is_closed_won'].sort_values(ascending=False)\n",
    "print(close_rate_correlation)\n"
   ]
  },
  {
   "cell_type": "markdown",
   "metadata": {},
   "source": [
    "_ _ _"
   ]
  },
  {
   "cell_type": "markdown",
   "metadata": {},
   "source": [
    "## Observations on Correlations\n",
    "\n",
    "### Positive Correlations with 'is_closed_won':\n",
    "\n",
    "- **Reporting Type Reason_Upgrade (0.178)**: Opportunities classified as \"Upgrade\" have a higher likelihood of being closed as won.\n",
    "- **Type_Upgrade (0.173)**: \"Upgrade\" type opportunities also show a high probability of being won.\n",
    "- **Global Region_EMEA (0.045)**: Opportunities in the EMEA region have a slight positive correlation with being closed as won.\n",
    "\n",
    "### Negative Correlations with 'is_closed_won':\n",
    "\n",
    "- **Type_New Deal (-0.180)**: New opportunities (New Deal) have a lower probability of being closed as won.\n",
    "- **Reporting Type Reason_New (-0.174)**: Opportunities classified as \"New\" have a lower likelihood of being won.\n",
    "- **ID (-0.102)**: This correlation is likely insignificant and due to the numbering of the records."
   ]
  },
  {
   "cell_type": "markdown",
   "metadata": {},
   "source": [
    "_ _ _"
   ]
  },
  {
   "cell_type": "markdown",
   "metadata": {},
   "source": [
    "## Recommendations Based on Tangible Data\n",
    "\n",
    "### Promote Upgrade Opportunities:\n",
    "\n",
    "Upgrade-type opportunities have a higher probability of being closed as won. It is recommended to focus on upselling and cross-selling strategies to capitalize on these opportunities.\n",
    "\n",
    "### EMEA Region:\n",
    "\n",
    "The EMEA region shows a slight positive correlation with closing opportunities as won. It could be beneficial to further explore the strategies used in this region to provide insights that can be applied to other regions.\n",
    "\n",
    "### Improve Strategies for New Opportunities:\n",
    "\n",
    "New opportunities (New Deal) show a lower probability of being won. It is recommended to review and enhance sales strategies and follow-ups for these opportunities, ensuring they receive the proper attention and resources needed."
   ]
  }
 ],
 "metadata": {
  "kernelspec": {
   "display_name": "base",
   "language": "python",
   "name": "python3"
  },
  "language_info": {
   "codemirror_mode": {
    "name": "ipython",
    "version": 3
   },
   "file_extension": ".py",
   "mimetype": "text/x-python",
   "name": "python",
   "nbconvert_exporter": "python",
   "pygments_lexer": "ipython3",
   "version": "3.11.9"
  }
 },
 "nbformat": 4,
 "nbformat_minor": 2
}
