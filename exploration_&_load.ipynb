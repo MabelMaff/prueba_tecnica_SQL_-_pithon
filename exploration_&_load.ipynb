{
 "cells": [
  {
   "cell_type": "markdown",
   "metadata": {},
   "source": [
    "                                                                 HONEI PROJECT                                                                          "
   ]
  },
  {
   "cell_type": "markdown",
   "metadata": {},
   "source": [
    "### `Libraries`"
   ]
  },
  {
   "cell_type": "code",
   "execution_count": 181,
   "metadata": {},
   "outputs": [],
   "source": [
    "#Importing libraries for MySQL connection\n",
    "#-----------------------------------------------------------------------\n",
    "import mysql.connector\n",
    "from mysql.connector import errorcode\n",
    "\n",
    "\n",
    "# Importing libraries for data manipulation and analysis\n",
    "# -----------------------------------------------------------------------\n",
    "import pandas as pd\n",
    "import numpy as np"
   ]
  },
  {
   "cell_type": "markdown",
   "metadata": {},
   "source": [
    "_ _ _"
   ]
  },
  {
   "cell_type": "markdown",
   "metadata": {},
   "source": [
    "### `Reading CSVs`"
   ]
  },
  {
   "cell_type": "code",
   "execution_count": 182,
   "metadata": {},
   "outputs": [],
   "source": [
    "# Reading the CSV files \n",
    "# -----------------------------------------------------------------------\n",
    "continents_data = pd.read_csv('continents.csv')\n",
    "countries_data = pd.read_csv('countries.csv')\n",
    "per_capita_data = pd.read_csv('per_capita.csv')\n",
    "continent_map_data = pd.read_csv('continent_map.csv')\n",
    "\n",
    "# Creating copies of the DataFrames, it's always recommended to avoid modifying the originals\n",
    "# -----------------------------------------------------------------------\n",
    "continents_df = continents_data.copy()\n",
    "countries_df = countries_data.copy()\n",
    "per_capita_df = per_capita_data.copy()\n",
    "continent_map_df = continent_map_data.copy()"
   ]
  },
  {
   "cell_type": "markdown",
   "metadata": {},
   "source": [
    "_ _ _"
   ]
  },
  {
   "cell_type": "markdown",
   "metadata": {},
   "source": [
    "### `Data Exploration`"
   ]
  },
  {
   "cell_type": "markdown",
   "metadata": {},
   "source": [
    "* First Look:"
   ]
  },
  {
   "cell_type": "code",
   "execution_count": 183,
   "metadata": {},
   "outputs": [
    {
     "data": {
      "text/html": [
       "<div>\n",
       "<style scoped>\n",
       "    .dataframe tbody tr th:only-of-type {\n",
       "        vertical-align: middle;\n",
       "    }\n",
       "\n",
       "    .dataframe tbody tr th {\n",
       "        vertical-align: top;\n",
       "    }\n",
       "\n",
       "    .dataframe thead th {\n",
       "        text-align: right;\n",
       "    }\n",
       "</style>\n",
       "<table border=\"1\" class=\"dataframe\">\n",
       "  <thead>\n",
       "    <tr style=\"text-align: right;\">\n",
       "      <th></th>\n",
       "      <th>continent_code</th>\n",
       "      <th>continent_name</th>\n",
       "    </tr>\n",
       "  </thead>\n",
       "  <tbody>\n",
       "    <tr>\n",
       "      <th>0</th>\n",
       "      <td>AF</td>\n",
       "      <td>Africa</td>\n",
       "    </tr>\n",
       "    <tr>\n",
       "      <th>1</th>\n",
       "      <td>AS</td>\n",
       "      <td>Asia</td>\n",
       "    </tr>\n",
       "    <tr>\n",
       "      <th>2</th>\n",
       "      <td>EU</td>\n",
       "      <td>Europe</td>\n",
       "    </tr>\n",
       "    <tr>\n",
       "      <th>3</th>\n",
       "      <td>NaN</td>\n",
       "      <td>North America</td>\n",
       "    </tr>\n",
       "    <tr>\n",
       "      <th>4</th>\n",
       "      <td>SA</td>\n",
       "      <td>South America</td>\n",
       "    </tr>\n",
       "    <tr>\n",
       "      <th>5</th>\n",
       "      <td>OC</td>\n",
       "      <td>Oceania</td>\n",
       "    </tr>\n",
       "    <tr>\n",
       "      <th>6</th>\n",
       "      <td>AN</td>\n",
       "      <td>Antarctica</td>\n",
       "    </tr>\n",
       "  </tbody>\n",
       "</table>\n",
       "</div>"
      ],
      "text/plain": [
       "  continent_code continent_name\n",
       "0             AF         Africa\n",
       "1             AS           Asia\n",
       "2             EU         Europe\n",
       "3            NaN  North America\n",
       "4             SA  South America\n",
       "5             OC        Oceania\n",
       "6             AN     Antarctica"
      ]
     },
     "execution_count": 183,
     "metadata": {},
     "output_type": "execute_result"
    }
   ],
   "source": [
    "# Printing DataFrames for a quick look\n",
    "# -----------------------------------------------------------------------\n",
    "continents_df"
   ]
  },
  {
   "cell_type": "code",
   "execution_count": 184,
   "metadata": {},
   "outputs": [
    {
     "data": {
      "text/html": [
       "<div>\n",
       "<style scoped>\n",
       "    .dataframe tbody tr th:only-of-type {\n",
       "        vertical-align: middle;\n",
       "    }\n",
       "\n",
       "    .dataframe tbody tr th {\n",
       "        vertical-align: top;\n",
       "    }\n",
       "\n",
       "    .dataframe thead th {\n",
       "        text-align: right;\n",
       "    }\n",
       "</style>\n",
       "<table border=\"1\" class=\"dataframe\">\n",
       "  <thead>\n",
       "    <tr style=\"text-align: right;\">\n",
       "      <th></th>\n",
       "      <th>country_code</th>\n",
       "      <th>country_name</th>\n",
       "    </tr>\n",
       "  </thead>\n",
       "  <tbody>\n",
       "    <tr>\n",
       "      <th>0</th>\n",
       "      <td>ABW</td>\n",
       "      <td>Aruba</td>\n",
       "    </tr>\n",
       "    <tr>\n",
       "      <th>1</th>\n",
       "      <td>AND</td>\n",
       "      <td>Andorra</td>\n",
       "    </tr>\n",
       "    <tr>\n",
       "      <th>2</th>\n",
       "      <td>AFG</td>\n",
       "      <td>Afghanistan</td>\n",
       "    </tr>\n",
       "    <tr>\n",
       "      <th>3</th>\n",
       "      <td>AGO</td>\n",
       "      <td>Angola</td>\n",
       "    </tr>\n",
       "    <tr>\n",
       "      <th>4</th>\n",
       "      <td>ALB</td>\n",
       "      <td>Albania</td>\n",
       "    </tr>\n",
       "    <tr>\n",
       "      <th>...</th>\n",
       "      <td>...</td>\n",
       "      <td>...</td>\n",
       "    </tr>\n",
       "    <tr>\n",
       "      <th>247</th>\n",
       "      <td>YEM</td>\n",
       "      <td>Yemen, Rep.</td>\n",
       "    </tr>\n",
       "    <tr>\n",
       "      <th>248</th>\n",
       "      <td>ZAF</td>\n",
       "      <td>South Africa</td>\n",
       "    </tr>\n",
       "    <tr>\n",
       "      <th>249</th>\n",
       "      <td>COD</td>\n",
       "      <td>Congo, Dem. Rep.</td>\n",
       "    </tr>\n",
       "    <tr>\n",
       "      <th>250</th>\n",
       "      <td>ZMB</td>\n",
       "      <td>Zambia</td>\n",
       "    </tr>\n",
       "    <tr>\n",
       "      <th>251</th>\n",
       "      <td>ZWE</td>\n",
       "      <td>Zimbabwe</td>\n",
       "    </tr>\n",
       "  </tbody>\n",
       "</table>\n",
       "<p>252 rows × 2 columns</p>\n",
       "</div>"
      ],
      "text/plain": [
       "    country_code      country_name\n",
       "0            ABW             Aruba\n",
       "1            AND           Andorra\n",
       "2            AFG       Afghanistan\n",
       "3            AGO            Angola\n",
       "4            ALB           Albania\n",
       "..           ...               ...\n",
       "247          YEM       Yemen, Rep.\n",
       "248          ZAF      South Africa\n",
       "249          COD  Congo, Dem. Rep.\n",
       "250          ZMB            Zambia\n",
       "251          ZWE          Zimbabwe\n",
       "\n",
       "[252 rows x 2 columns]"
      ]
     },
     "execution_count": 184,
     "metadata": {},
     "output_type": "execute_result"
    }
   ],
   "source": [
    "countries_df"
   ]
  },
  {
   "cell_type": "code",
   "execution_count": 185,
   "metadata": {},
   "outputs": [
    {
     "data": {
      "text/html": [
       "<div>\n",
       "<style scoped>\n",
       "    .dataframe tbody tr th:only-of-type {\n",
       "        vertical-align: middle;\n",
       "    }\n",
       "\n",
       "    .dataframe tbody tr th {\n",
       "        vertical-align: top;\n",
       "    }\n",
       "\n",
       "    .dataframe thead th {\n",
       "        text-align: right;\n",
       "    }\n",
       "</style>\n",
       "<table border=\"1\" class=\"dataframe\">\n",
       "  <thead>\n",
       "    <tr style=\"text-align: right;\">\n",
       "      <th></th>\n",
       "      <th>country_code</th>\n",
       "      <th>year</th>\n",
       "      <th>gdp_per_capita</th>\n",
       "    </tr>\n",
       "  </thead>\n",
       "  <tbody>\n",
       "    <tr>\n",
       "      <th>0</th>\n",
       "      <td>ABW</td>\n",
       "      <td>2004</td>\n",
       "      <td>22566.682160</td>\n",
       "    </tr>\n",
       "    <tr>\n",
       "      <th>1</th>\n",
       "      <td>AND</td>\n",
       "      <td>2004</td>\n",
       "      <td>29372.166740</td>\n",
       "    </tr>\n",
       "    <tr>\n",
       "      <th>2</th>\n",
       "      <td>AFG</td>\n",
       "      <td>2004</td>\n",
       "      <td>220.056288</td>\n",
       "    </tr>\n",
       "    <tr>\n",
       "      <th>3</th>\n",
       "      <td>AGO</td>\n",
       "      <td>2004</td>\n",
       "      <td>1229.342988</td>\n",
       "    </tr>\n",
       "    <tr>\n",
       "      <th>4</th>\n",
       "      <td>ALB</td>\n",
       "      <td>2004</td>\n",
       "      <td>2320.892330</td>\n",
       "    </tr>\n",
       "    <tr>\n",
       "      <th>...</th>\n",
       "      <td>...</td>\n",
       "      <td>...</td>\n",
       "      <td>...</td>\n",
       "    </tr>\n",
       "    <tr>\n",
       "      <th>2074</th>\n",
       "      <td>YEM</td>\n",
       "      <td>2012</td>\n",
       "      <td>1498.261568</td>\n",
       "    </tr>\n",
       "    <tr>\n",
       "      <th>2075</th>\n",
       "      <td>ZAF</td>\n",
       "      <td>2012</td>\n",
       "      <td>7351.756648</td>\n",
       "    </tr>\n",
       "    <tr>\n",
       "      <th>2076</th>\n",
       "      <td>COD</td>\n",
       "      <td>2012</td>\n",
       "      <td>261.836335</td>\n",
       "    </tr>\n",
       "    <tr>\n",
       "      <th>2077</th>\n",
       "      <td>ZMB</td>\n",
       "      <td>2012</td>\n",
       "      <td>1462.887261</td>\n",
       "    </tr>\n",
       "    <tr>\n",
       "      <th>2078</th>\n",
       "      <td>ZWE</td>\n",
       "      <td>2012</td>\n",
       "      <td>714.233007</td>\n",
       "    </tr>\n",
       "  </tbody>\n",
       "</table>\n",
       "<p>2079 rows × 3 columns</p>\n",
       "</div>"
      ],
      "text/plain": [
       "     country_code  year  gdp_per_capita\n",
       "0             ABW  2004    22566.682160\n",
       "1             AND  2004    29372.166740\n",
       "2             AFG  2004      220.056288\n",
       "3             AGO  2004     1229.342988\n",
       "4             ALB  2004     2320.892330\n",
       "...           ...   ...             ...\n",
       "2074          YEM  2012     1498.261568\n",
       "2075          ZAF  2012     7351.756648\n",
       "2076          COD  2012      261.836335\n",
       "2077          ZMB  2012     1462.887261\n",
       "2078          ZWE  2012      714.233007\n",
       "\n",
       "[2079 rows x 3 columns]"
      ]
     },
     "execution_count": 185,
     "metadata": {},
     "output_type": "execute_result"
    }
   ],
   "source": [
    "per_capita_df"
   ]
  },
  {
   "cell_type": "code",
   "execution_count": 186,
   "metadata": {},
   "outputs": [
    {
     "data": {
      "text/html": [
       "<div>\n",
       "<style scoped>\n",
       "    .dataframe tbody tr th:only-of-type {\n",
       "        vertical-align: middle;\n",
       "    }\n",
       "\n",
       "    .dataframe tbody tr th {\n",
       "        vertical-align: top;\n",
       "    }\n",
       "\n",
       "    .dataframe thead th {\n",
       "        text-align: right;\n",
       "    }\n",
       "</style>\n",
       "<table border=\"1\" class=\"dataframe\">\n",
       "  <thead>\n",
       "    <tr style=\"text-align: right;\">\n",
       "      <th></th>\n",
       "      <th>country_code</th>\n",
       "      <th>continent_code</th>\n",
       "    </tr>\n",
       "  </thead>\n",
       "  <tbody>\n",
       "    <tr>\n",
       "      <th>0</th>\n",
       "      <td>ABW</td>\n",
       "      <td>NaN</td>\n",
       "    </tr>\n",
       "    <tr>\n",
       "      <th>1</th>\n",
       "      <td>AFG</td>\n",
       "      <td>AS</td>\n",
       "    </tr>\n",
       "    <tr>\n",
       "      <th>2</th>\n",
       "      <td>AGO</td>\n",
       "      <td>AF</td>\n",
       "    </tr>\n",
       "    <tr>\n",
       "      <th>3</th>\n",
       "      <td>AIA</td>\n",
       "      <td>NaN</td>\n",
       "    </tr>\n",
       "    <tr>\n",
       "      <th>4</th>\n",
       "      <td>ALA</td>\n",
       "      <td>EU</td>\n",
       "    </tr>\n",
       "    <tr>\n",
       "      <th>...</th>\n",
       "      <td>...</td>\n",
       "      <td>...</td>\n",
       "    </tr>\n",
       "    <tr>\n",
       "      <th>258</th>\n",
       "      <td>WSM</td>\n",
       "      <td>OC</td>\n",
       "    </tr>\n",
       "    <tr>\n",
       "      <th>259</th>\n",
       "      <td>YEM</td>\n",
       "      <td>AS</td>\n",
       "    </tr>\n",
       "    <tr>\n",
       "      <th>260</th>\n",
       "      <td>ZAF</td>\n",
       "      <td>AF</td>\n",
       "    </tr>\n",
       "    <tr>\n",
       "      <th>261</th>\n",
       "      <td>ZMB</td>\n",
       "      <td>AF</td>\n",
       "    </tr>\n",
       "    <tr>\n",
       "      <th>262</th>\n",
       "      <td>ZWE</td>\n",
       "      <td>AF</td>\n",
       "    </tr>\n",
       "  </tbody>\n",
       "</table>\n",
       "<p>263 rows × 2 columns</p>\n",
       "</div>"
      ],
      "text/plain": [
       "    country_code continent_code\n",
       "0            ABW            NaN\n",
       "1            AFG             AS\n",
       "2            AGO             AF\n",
       "3            AIA            NaN\n",
       "4            ALA             EU\n",
       "..           ...            ...\n",
       "258          WSM             OC\n",
       "259          YEM             AS\n",
       "260          ZAF             AF\n",
       "261          ZMB             AF\n",
       "262          ZWE             AF\n",
       "\n",
       "[263 rows x 2 columns]"
      ]
     },
     "execution_count": 186,
     "metadata": {},
     "output_type": "execute_result"
    }
   ],
   "source": [
    "continent_map_df"
   ]
  },
  {
   "cell_type": "markdown",
   "metadata": {},
   "source": [
    "_ _ _"
   ]
  },
  {
   "cell_type": "markdown",
   "metadata": {},
   "source": [
    "* Inspecting Data Types: "
   ]
  },
  {
   "cell_type": "code",
   "execution_count": 187,
   "metadata": {},
   "outputs": [
    {
     "name": "stdout",
     "output_type": "stream",
     "text": [
      "<class 'pandas.core.frame.DataFrame'>\n",
      "RangeIndex: 252 entries, 0 to 251\n",
      "Data columns (total 2 columns):\n",
      " #   Column        Non-Null Count  Dtype \n",
      "---  ------        --------------  ----- \n",
      " 0   country_code  252 non-null    object\n",
      " 1   country_name  252 non-null    object\n",
      "dtypes: object(2)\n",
      "memory usage: 4.1+ KB\n"
     ]
    }
   ],
   "source": [
    "# Viewing basic information and data types of each Dataframe\n",
    "# -----------------------------------------------------------------------\n",
    "countries_df.info()"
   ]
  },
  {
   "cell_type": "code",
   "execution_count": 188,
   "metadata": {},
   "outputs": [
    {
     "name": "stdout",
     "output_type": "stream",
     "text": [
      "<class 'pandas.core.frame.DataFrame'>\n",
      "RangeIndex: 7 entries, 0 to 6\n",
      "Data columns (total 2 columns):\n",
      " #   Column          Non-Null Count  Dtype \n",
      "---  ------          --------------  ----- \n",
      " 0   continent_code  6 non-null      object\n",
      " 1   continent_name  7 non-null      object\n",
      "dtypes: object(2)\n",
      "memory usage: 244.0+ bytes\n"
     ]
    }
   ],
   "source": [
    "continents_df.info()"
   ]
  },
  {
   "cell_type": "code",
   "execution_count": 189,
   "metadata": {},
   "outputs": [
    {
     "name": "stdout",
     "output_type": "stream",
     "text": [
      "<class 'pandas.core.frame.DataFrame'>\n",
      "RangeIndex: 2079 entries, 0 to 2078\n",
      "Data columns (total 3 columns):\n",
      " #   Column          Non-Null Count  Dtype  \n",
      "---  ------          --------------  -----  \n",
      " 0   country_code    2079 non-null   object \n",
      " 1   year            2079 non-null   int64  \n",
      " 2   gdp_per_capita  2025 non-null   float64\n",
      "dtypes: float64(1), int64(1), object(1)\n",
      "memory usage: 48.9+ KB\n"
     ]
    }
   ],
   "source": [
    "per_capita_df.info()"
   ]
  },
  {
   "cell_type": "code",
   "execution_count": 190,
   "metadata": {},
   "outputs": [
    {
     "name": "stdout",
     "output_type": "stream",
     "text": [
      "<class 'pandas.core.frame.DataFrame'>\n",
      "RangeIndex: 263 entries, 0 to 262\n",
      "Data columns (total 2 columns):\n",
      " #   Column          Non-Null Count  Dtype \n",
      "---  ------          --------------  ----- \n",
      " 0   country_code    259 non-null    object\n",
      " 1   continent_code  220 non-null    object\n",
      "dtypes: object(2)\n",
      "memory usage: 4.2+ KB\n"
     ]
    }
   ],
   "source": [
    "continent_map_df.info()"
   ]
  },
  {
   "cell_type": "markdown",
   "metadata": {},
   "source": [
    "_ _ _ "
   ]
  },
  {
   "cell_type": "markdown",
   "metadata": {},
   "source": [
    "* Getting Descriptive Statistics:"
   ]
  },
  {
   "cell_type": "code",
   "execution_count": 191,
   "metadata": {},
   "outputs": [
    {
     "data": {
      "text/html": [
       "<div>\n",
       "<style scoped>\n",
       "    .dataframe tbody tr th:only-of-type {\n",
       "        vertical-align: middle;\n",
       "    }\n",
       "\n",
       "    .dataframe tbody tr th {\n",
       "        vertical-align: top;\n",
       "    }\n",
       "\n",
       "    .dataframe thead th {\n",
       "        text-align: right;\n",
       "    }\n",
       "</style>\n",
       "<table border=\"1\" class=\"dataframe\">\n",
       "  <thead>\n",
       "    <tr style=\"text-align: right;\">\n",
       "      <th></th>\n",
       "      <th>country_code</th>\n",
       "      <th>country_name</th>\n",
       "    </tr>\n",
       "  </thead>\n",
       "  <tbody>\n",
       "    <tr>\n",
       "      <th>count</th>\n",
       "      <td>252</td>\n",
       "      <td>252</td>\n",
       "    </tr>\n",
       "    <tr>\n",
       "      <th>unique</th>\n",
       "      <td>252</td>\n",
       "      <td>252</td>\n",
       "    </tr>\n",
       "    <tr>\n",
       "      <th>top</th>\n",
       "      <td>ABW</td>\n",
       "      <td>Aruba</td>\n",
       "    </tr>\n",
       "    <tr>\n",
       "      <th>freq</th>\n",
       "      <td>1</td>\n",
       "      <td>1</td>\n",
       "    </tr>\n",
       "  </tbody>\n",
       "</table>\n",
       "</div>"
      ],
      "text/plain": [
       "       country_code country_name\n",
       "count           252          252\n",
       "unique          252          252\n",
       "top             ABW        Aruba\n",
       "freq              1            1"
      ]
     },
     "execution_count": 191,
     "metadata": {},
     "output_type": "execute_result"
    }
   ],
   "source": [
    "# Viewing descriptive statistics to understand data distribution, identify outliers, summarize data,\n",
    "# check data integrity, and guide further analysis\n",
    "# -----------------------------------------------------------------------\n",
    "countries_df.describe()"
   ]
  },
  {
   "cell_type": "code",
   "execution_count": 192,
   "metadata": {},
   "outputs": [
    {
     "data": {
      "text/html": [
       "<div>\n",
       "<style scoped>\n",
       "    .dataframe tbody tr th:only-of-type {\n",
       "        vertical-align: middle;\n",
       "    }\n",
       "\n",
       "    .dataframe tbody tr th {\n",
       "        vertical-align: top;\n",
       "    }\n",
       "\n",
       "    .dataframe thead th {\n",
       "        text-align: right;\n",
       "    }\n",
       "</style>\n",
       "<table border=\"1\" class=\"dataframe\">\n",
       "  <thead>\n",
       "    <tr style=\"text-align: right;\">\n",
       "      <th></th>\n",
       "      <th>continent_code</th>\n",
       "      <th>continent_name</th>\n",
       "    </tr>\n",
       "  </thead>\n",
       "  <tbody>\n",
       "    <tr>\n",
       "      <th>count</th>\n",
       "      <td>6</td>\n",
       "      <td>7</td>\n",
       "    </tr>\n",
       "    <tr>\n",
       "      <th>unique</th>\n",
       "      <td>6</td>\n",
       "      <td>7</td>\n",
       "    </tr>\n",
       "    <tr>\n",
       "      <th>top</th>\n",
       "      <td>AF</td>\n",
       "      <td>Africa</td>\n",
       "    </tr>\n",
       "    <tr>\n",
       "      <th>freq</th>\n",
       "      <td>1</td>\n",
       "      <td>1</td>\n",
       "    </tr>\n",
       "  </tbody>\n",
       "</table>\n",
       "</div>"
      ],
      "text/plain": [
       "       continent_code continent_name\n",
       "count               6              7\n",
       "unique              6              7\n",
       "top                AF         Africa\n",
       "freq                1              1"
      ]
     },
     "execution_count": 192,
     "metadata": {},
     "output_type": "execute_result"
    }
   ],
   "source": [
    "continents_df.describe()"
   ]
  },
  {
   "cell_type": "code",
   "execution_count": 193,
   "metadata": {},
   "outputs": [
    {
     "data": {
      "text/html": [
       "<div>\n",
       "<style scoped>\n",
       "    .dataframe tbody tr th:only-of-type {\n",
       "        vertical-align: middle;\n",
       "    }\n",
       "\n",
       "    .dataframe tbody tr th {\n",
       "        vertical-align: top;\n",
       "    }\n",
       "\n",
       "    .dataframe thead th {\n",
       "        text-align: right;\n",
       "    }\n",
       "</style>\n",
       "<table border=\"1\" class=\"dataframe\">\n",
       "  <thead>\n",
       "    <tr style=\"text-align: right;\">\n",
       "      <th></th>\n",
       "      <th>year</th>\n",
       "      <th>gdp_per_capita</th>\n",
       "    </tr>\n",
       "  </thead>\n",
       "  <tbody>\n",
       "    <tr>\n",
       "      <th>count</th>\n",
       "      <td>2079.00000</td>\n",
       "      <td>2025.000000</td>\n",
       "    </tr>\n",
       "    <tr>\n",
       "      <th>mean</th>\n",
       "      <td>2008.00000</td>\n",
       "      <td>13322.167958</td>\n",
       "    </tr>\n",
       "    <tr>\n",
       "      <th>std</th>\n",
       "      <td>2.58261</td>\n",
       "      <td>20645.056009</td>\n",
       "    </tr>\n",
       "    <tr>\n",
       "      <th>min</th>\n",
       "      <td>2004.00000</td>\n",
       "      <td>121.859304</td>\n",
       "    </tr>\n",
       "    <tr>\n",
       "      <th>25%</th>\n",
       "      <td>2006.00000</td>\n",
       "      <td>1253.112383</td>\n",
       "    </tr>\n",
       "    <tr>\n",
       "      <th>50%</th>\n",
       "      <td>2008.00000</td>\n",
       "      <td>4486.555676</td>\n",
       "    </tr>\n",
       "    <tr>\n",
       "      <th>75%</th>\n",
       "      <td>2010.00000</td>\n",
       "      <td>15871.500140</td>\n",
       "    </tr>\n",
       "    <tr>\n",
       "      <th>max</th>\n",
       "      <td>2012.00000</td>\n",
       "      <td>193892.322300</td>\n",
       "    </tr>\n",
       "  </tbody>\n",
       "</table>\n",
       "</div>"
      ],
      "text/plain": [
       "             year  gdp_per_capita\n",
       "count  2079.00000     2025.000000\n",
       "mean   2008.00000    13322.167958\n",
       "std       2.58261    20645.056009\n",
       "min    2004.00000      121.859304\n",
       "25%    2006.00000     1253.112383\n",
       "50%    2008.00000     4486.555676\n",
       "75%    2010.00000    15871.500140\n",
       "max    2012.00000   193892.322300"
      ]
     },
     "execution_count": 193,
     "metadata": {},
     "output_type": "execute_result"
    }
   ],
   "source": [
    "per_capita_df.describe()"
   ]
  },
  {
   "cell_type": "code",
   "execution_count": 194,
   "metadata": {},
   "outputs": [
    {
     "data": {
      "text/html": [
       "<div>\n",
       "<style scoped>\n",
       "    .dataframe tbody tr th:only-of-type {\n",
       "        vertical-align: middle;\n",
       "    }\n",
       "\n",
       "    .dataframe tbody tr th {\n",
       "        vertical-align: top;\n",
       "    }\n",
       "\n",
       "    .dataframe thead th {\n",
       "        text-align: right;\n",
       "    }\n",
       "</style>\n",
       "<table border=\"1\" class=\"dataframe\">\n",
       "  <thead>\n",
       "    <tr style=\"text-align: right;\">\n",
       "      <th></th>\n",
       "      <th>country_code</th>\n",
       "      <th>continent_code</th>\n",
       "    </tr>\n",
       "  </thead>\n",
       "  <tbody>\n",
       "    <tr>\n",
       "      <th>count</th>\n",
       "      <td>259</td>\n",
       "      <td>220</td>\n",
       "    </tr>\n",
       "    <tr>\n",
       "      <th>unique</th>\n",
       "      <td>250</td>\n",
       "      <td>6</td>\n",
       "    </tr>\n",
       "    <tr>\n",
       "      <th>top</th>\n",
       "      <td>ARM</td>\n",
       "      <td>AF</td>\n",
       "    </tr>\n",
       "    <tr>\n",
       "      <th>freq</th>\n",
       "      <td>3</td>\n",
       "      <td>59</td>\n",
       "    </tr>\n",
       "  </tbody>\n",
       "</table>\n",
       "</div>"
      ],
      "text/plain": [
       "       country_code continent_code\n",
       "count           259            220\n",
       "unique          250              6\n",
       "top             ARM             AF\n",
       "freq              3             59"
      ]
     },
     "execution_count": 194,
     "metadata": {},
     "output_type": "execute_result"
    }
   ],
   "source": [
    "continent_map_df.describe()"
   ]
  },
  {
   "cell_type": "markdown",
   "metadata": {},
   "source": [
    "_ _ _"
   ]
  },
  {
   "cell_type": "markdown",
   "metadata": {},
   "source": [
    "* Checking Duplicates:"
   ]
  },
  {
   "cell_type": "code",
   "execution_count": 195,
   "metadata": {},
   "outputs": [
    {
     "data": {
      "text/plain": [
       "0"
      ]
     },
     "execution_count": 195,
     "metadata": {},
     "output_type": "execute_result"
    }
   ],
   "source": [
    "# Checking for duplicates to identify any duplicate information that could skew the calculations later\n",
    "# -----------------------------------------------------------------------\n",
    "continents_df.duplicated().sum()"
   ]
  },
  {
   "cell_type": "code",
   "execution_count": 196,
   "metadata": {},
   "outputs": [
    {
     "data": {
      "text/plain": [
       "0"
      ]
     },
     "execution_count": 196,
     "metadata": {},
     "output_type": "execute_result"
    }
   ],
   "source": [
    "countries_df.duplicated().sum()"
   ]
  },
  {
   "cell_type": "code",
   "execution_count": 197,
   "metadata": {},
   "outputs": [
    {
     "data": {
      "text/plain": [
       "0"
      ]
     },
     "execution_count": 197,
     "metadata": {},
     "output_type": "execute_result"
    }
   ],
   "source": [
    "per_capita_df.duplicated().sum()"
   ]
  },
  {
   "cell_type": "code",
   "execution_count": 198,
   "metadata": {},
   "outputs": [
    {
     "data": {
      "text/plain": [
       "2"
      ]
     },
     "execution_count": 198,
     "metadata": {},
     "output_type": "execute_result"
    }
   ],
   "source": [
    "continent_map_df.duplicated().sum()"
   ]
  },
  {
   "cell_type": "markdown",
   "metadata": {},
   "source": [
    "* Checking Nulls:"
   ]
  },
  {
   "cell_type": "code",
   "execution_count": 199,
   "metadata": {},
   "outputs": [
    {
     "data": {
      "text/plain": [
       "continent_code    1\n",
       "continent_name    0\n",
       "dtype: int64"
      ]
     },
     "execution_count": 199,
     "metadata": {},
     "output_type": "execute_result"
    }
   ],
   "source": [
    "# Counting Null Values is essential for working with SQL\n",
    "# -----------------------------------------------------------------------\n",
    "continents_df.isnull().sum()"
   ]
  },
  {
   "cell_type": "code",
   "execution_count": 200,
   "metadata": {},
   "outputs": [
    {
     "data": {
      "text/plain": [
       "country_code    0\n",
       "country_name    0\n",
       "dtype: int64"
      ]
     },
     "execution_count": 200,
     "metadata": {},
     "output_type": "execute_result"
    }
   ],
   "source": [
    "countries_df.isnull().sum()"
   ]
  },
  {
   "cell_type": "code",
   "execution_count": 201,
   "metadata": {},
   "outputs": [
    {
     "data": {
      "text/plain": [
       "country_code       0\n",
       "year               0\n",
       "gdp_per_capita    54\n",
       "dtype: int64"
      ]
     },
     "execution_count": 201,
     "metadata": {},
     "output_type": "execute_result"
    }
   ],
   "source": [
    "per_capita_df.isnull().sum()"
   ]
  },
  {
   "cell_type": "code",
   "execution_count": 202,
   "metadata": {},
   "outputs": [
    {
     "data": {
      "text/plain": [
       "country_code       4\n",
       "continent_code    43\n",
       "dtype: int64"
      ]
     },
     "execution_count": 202,
     "metadata": {},
     "output_type": "execute_result"
    }
   ],
   "source": [
    "continent_map_df.isnull().sum()"
   ]
  },
  {
   "cell_type": "markdown",
   "metadata": {},
   "source": [
    "_ _ _"
   ]
  },
  {
   "cell_type": "markdown",
   "metadata": {},
   "source": [
    "* Exploring Unique Values: "
   ]
  },
  {
   "cell_type": "code",
   "execution_count": 203,
   "metadata": {},
   "outputs": [],
   "source": [
    "# Exploring unique values to understand data diversity and detect inconsistencies\n",
    "# -----------------------------------------------------------------------\n",
    "def print_unique_values(df):\n",
    "    # Imprimir valores únicos de cada columna\n",
    "    for column in df.columns:\n",
    "        print(f\"Column: {column}\")\n",
    "        print(df[column].unique())\n",
    "        print(\"\\n--------------------\\n\")"
   ]
  },
  {
   "cell_type": "code",
   "execution_count": 204,
   "metadata": {},
   "outputs": [
    {
     "name": "stdout",
     "output_type": "stream",
     "text": [
      "Column: continent_code\n",
      "['AF' 'AS' 'EU' nan 'SA' 'OC' 'AN']\n",
      "\n",
      "--------------------\n",
      "\n",
      "Column: continent_name\n",
      "['Africa' 'Asia' 'Europe' 'North America' 'South America' 'Oceania'\n",
      " 'Antarctica']\n",
      "\n",
      "--------------------\n",
      "\n"
     ]
    }
   ],
   "source": [
    "print_unique_values(continents_df)"
   ]
  },
  {
   "cell_type": "code",
   "execution_count": 205,
   "metadata": {},
   "outputs": [
    {
     "name": "stdout",
     "output_type": "stream",
     "text": [
      "Column: country_code\n",
      "['ABW' 'AND' 'AFG' 'AGO' 'ALB' 'ARB' 'ARE' 'ARG' 'ARM' 'ASM' 'ATG' 'AUS'\n",
      " 'AUT' 'AZE' 'BDI' 'BEL' 'BEN' 'BFA' 'BGD' 'BGR' 'BHR' 'BHS' 'BIH' 'BLR'\n",
      " 'BLZ' 'BMU' 'BOL' 'BRA' 'BRB' 'BRN' 'BTN' 'BWA' 'CAA' 'CAF' 'CAN' 'CEA'\n",
      " 'CEU' 'CHE' 'CHI' 'CHL' 'CHN' 'CIV' 'CLA' 'CME' 'CMR' 'COG' 'COL' 'COM'\n",
      " 'CPV' 'CRI' 'CSA' 'CSS' 'CUB' 'CUW' 'CYM' 'CYP' 'CZE' 'DEU' 'DJI' 'DMA'\n",
      " 'DNK' 'DOM' 'DZA' 'EAP' 'EAS' 'ECA' 'ECS' 'ECU' 'EGY' 'EMU' 'ERI' 'ESP'\n",
      " 'EST' 'ETH' 'EUU' 'FIN' 'FJI' 'FRA' 'FRO' 'FSM' 'GAB' 'GBR' 'GEO' 'GHA'\n",
      " 'GIN' 'GMB' 'GNB' 'GNQ' 'GRC' 'GRD' 'GRL' 'GTM' 'GUM' 'GUY' 'HIC' 'HKG'\n",
      " 'HND' 'HPC' 'HRV' 'HTI' 'HUN' 'IDN' 'IMN' 'IND' 'INX' 'IRL' 'IRN' 'IRQ'\n",
      " 'ISL' 'ISR' 'ITA' 'JAM' 'JOR' 'JPN' 'KAZ' 'KEN' 'KGZ' 'KHM' 'KIR' 'KNA'\n",
      " 'KOR' 'KSV' 'KWT' 'LAC' 'LAO' 'LBN' 'LBR' 'LBY' 'LCA' 'LCN' 'LDC' 'LIC'\n",
      " 'LIE' 'LKA' 'LMC' 'LMY' 'LSO' 'LTU' 'LUX' 'LVA' 'MAC' 'MAF' 'MAR' 'MCO'\n",
      " 'MDA' 'MDG' 'MDV' 'MEA' 'MEX' 'MHL' 'MIC' 'MKD' 'MLI' 'MLT' 'MMR' 'MNA'\n",
      " 'MNE' 'MNG' 'MNP' 'MOZ' 'MRT' 'MUS' 'MWI' 'MYS' 'NAC' 'NAM' 'NCL' 'NER'\n",
      " 'NGA' 'NIC' 'NLD' 'NOC' 'NOR' 'NPL' 'NZL' 'OEC' 'OED' 'OMN' 'OSS' 'PAK'\n",
      " 'PAN' 'PER' 'PHL' 'PLW' 'PNG' 'POL' 'PRI' 'PRK' 'PRT' 'PRY' 'PSS' 'PYF'\n",
      " 'QAT' 'ROU' 'RUS' 'RWA' 'SAS' 'SAU' 'SDN' 'SEN' 'SGP' 'SLB' 'SLE' 'SLV'\n",
      " 'SMR' 'SOM' 'SRB' 'SSA' 'SSD' 'SSF' 'SST' 'STP' 'SUR' 'SVK' 'SVN' 'SWE'\n",
      " 'SWZ' 'SXM' 'SYC' 'SYR' 'TCA' 'TCD' 'TGO' 'THA' 'TJK' 'TKM' 'TLS' 'TON'\n",
      " 'TTO' 'TUN' 'TUR' 'TUV' 'TZA' 'UGA' 'UKR' 'UMC' 'URY' 'USA' 'UZB' 'VCT'\n",
      " 'VEN' 'VIR' 'VNM' 'VUT' 'PSE' 'WLD' 'WSM' 'YEM' 'ZAF' 'COD' 'ZMB' 'ZWE']\n",
      "\n",
      "--------------------\n",
      "\n",
      "Column: country_name\n",
      "['Aruba' 'Andorra' 'Afghanistan' 'Angola' 'Albania' 'Arab World'\n",
      " 'United Arab Emirates' 'Argentina' 'Armenia' 'American Samoa'\n",
      " 'Antigua and Barbuda' 'Australia' 'Austria' 'Azerbaijan' 'Burundi'\n",
      " 'Belgium' 'Benin' 'Burkina Faso' 'Bangladesh' 'Bulgaria' 'Bahrain'\n",
      " 'Bahamas, The' 'Bosnia and Herzegovina' 'Belarus' 'Belize' 'Bermuda'\n",
      " 'Bolivia' 'Brazil' 'Barbados' 'Brunei Darussalam' 'Bhutan' 'Botswana'\n",
      " 'Sub-Saharan Africa (IFC classification)' 'Central African Republic'\n",
      " 'Canada' 'East Asia and the Pacific (IFC classification)'\n",
      " 'Europe and Central Asia (IFC classification)' 'Switzerland'\n",
      " 'Channel Islands' 'Chile' 'China' \"Cote d'Ivoire\"\n",
      " 'Latin America and the Caribbean (IFC classification)'\n",
      " 'Middle East and North Africa (IFC classification)' 'Cameroon'\n",
      " 'Congo, Rep.' 'Colombia' 'Comoros' 'Cabo Verde' 'Costa Rica'\n",
      " 'South Asia (IFC classification)' 'Caribbean small states' 'Cuba'\n",
      " 'Curacao' 'Cayman Islands' 'Cyprus' 'Czech Republic' 'Germany' 'Djibouti'\n",
      " 'Dominica' 'Denmark' 'Dominican Republic' 'Algeria'\n",
      " 'East Asia & Pacific (developing only)'\n",
      " 'East Asia & Pacific (all income levels)'\n",
      " 'Europe & Central Asia (developing only)'\n",
      " 'Europe & Central Asia (all income levels)' 'Ecuador' 'Egypt, Arab Rep.'\n",
      " 'Euro area' 'Eritrea' 'Spain' 'Estonia' 'Ethiopia' 'European Union'\n",
      " 'Finland' 'Fiji' 'France' 'Faeroe Islands' 'Micronesia, Fed. Sts.'\n",
      " 'Gabon' 'United Kingdom' 'Georgia' 'Ghana' 'Guinea' 'Gambia, The'\n",
      " 'Guinea-Bissau' 'Equatorial Guinea' 'Greece' 'Grenada' 'Greenland'\n",
      " 'Guatemala' 'Guam' 'Guyana' 'High income' 'Hong Kong SAR, China'\n",
      " 'Honduras' 'Heavily indebted poor countries (HIPC)' 'Croatia' 'Haiti'\n",
      " 'Hungary' 'Indonesia' 'Isle of Man' 'India' 'Not classified' 'Ireland'\n",
      " 'Iran, Islamic Rep.' 'Iraq' 'Iceland' 'Israel' 'Italy' 'Jamaica' 'Jordan'\n",
      " 'Japan' 'Kazakhstan' 'Kenya' 'Kyrgyz Republic' 'Cambodia' 'Kiribati'\n",
      " 'St. Kitts and Nevis' 'Korea, Rep.' 'Kosovo' 'Kuwait'\n",
      " 'Latin America & Caribbean (developing only)' 'Lao PDR' 'Lebanon'\n",
      " 'Liberia' 'Libya' 'St. Lucia'\n",
      " 'Latin America & Caribbean (all income levels)'\n",
      " 'Least developed countries: UN classification' 'Low income'\n",
      " 'Liechtenstein' 'Sri Lanka' 'Lower middle income' 'Low & middle income'\n",
      " 'Lesotho' 'Lithuania' 'Luxembourg' 'Latvia' 'Macao SAR, China'\n",
      " 'St. Martin (French part)' 'Morocco' 'Monaco' 'Moldova' 'Madagascar'\n",
      " 'Maldives' 'Middle East & North Africa (all income levels)' 'Mexico'\n",
      " 'Marshall Islands' 'Middle income' 'Macedonia, FYR' 'Mali' 'Malta'\n",
      " 'Myanmar' 'Middle East & North Africa (developing only)' 'Montenegro'\n",
      " 'Mongolia' 'Northern Mariana Islands' 'Mozambique' 'Mauritania'\n",
      " 'Mauritius' 'Malawi' 'Malaysia' 'North America' 'Namibia' 'New Caledonia'\n",
      " 'Niger' 'Nigeria' 'Nicaragua' 'Netherlands' 'High income: nonOECD'\n",
      " 'Norway' 'Nepal' 'New Zealand' 'High income: OECD' 'OECD members' 'Oman'\n",
      " 'Other small states' 'Pakistan' 'Panama' 'Peru' 'Philippines' 'Palau'\n",
      " 'Papua New Guinea' 'Poland' 'Puerto Rico' 'Korea, Dem. Rep.' 'Portugal'\n",
      " 'Paraguay' 'Pacific island small states' 'French Polynesia' 'Qatar'\n",
      " 'Romania' 'Russian Federation' 'Rwanda' 'South Asia' 'Saudi Arabia'\n",
      " 'Sudan' 'Senegal' 'Singapore' 'Solomon Islands' 'Sierra Leone'\n",
      " 'El Salvador' 'San Marino' 'Somalia' 'Serbia'\n",
      " 'Sub-Saharan Africa (developing only)' 'South Sudan'\n",
      " 'Sub-Saharan Africa (all income levels)' 'Small states'\n",
      " 'Sao Tome and Principe' 'Suriname' 'Slovak Republic' 'Slovenia' 'Sweden'\n",
      " 'Swaziland' 'Sint Maarten (Dutch part)' 'Seychelles'\n",
      " 'Syrian Arab Republic' 'Turks and Caicos Islands' 'Chad' 'Togo'\n",
      " 'Thailand' 'Tajikistan' 'Turkmenistan' 'Timor-Leste' 'Tonga'\n",
      " 'Trinidad and Tobago' 'Tunisia' 'Turkey' 'Tuvalu' 'Tanzania' 'Uganda'\n",
      " 'Ukraine' 'Upper middle income' 'Uruguay' 'United States' 'Uzbekistan'\n",
      " 'St. Vincent and the Grenadines' 'Venezuela, RB' 'Virgin Islands (U.S.)'\n",
      " 'Vietnam' 'Vanuatu' 'West Bank and Gaza' 'World' 'Samoa' 'Yemen, Rep.'\n",
      " 'South Africa' 'Congo, Dem. Rep.' 'Zambia' 'Zimbabwe']\n",
      "\n",
      "--------------------\n",
      "\n"
     ]
    }
   ],
   "source": [
    "print_unique_values(countries_df)"
   ]
  },
  {
   "cell_type": "code",
   "execution_count": 206,
   "metadata": {},
   "outputs": [
    {
     "name": "stdout",
     "output_type": "stream",
     "text": [
      "Column: country_code\n",
      "['ABW' 'AND' 'AFG' 'AGO' 'ALB' 'ARB' 'ARE' 'ARG' 'ARM' 'ATG' 'AUS' 'AUT'\n",
      " 'AZE' 'BDI' 'BEL' 'BEN' 'BFA' 'BGD' 'BGR' 'BHR' 'BHS' 'BIH' 'BLR' 'BLZ'\n",
      " 'BMU' 'BOL' 'BRA' 'BRB' 'BRN' 'BTN' 'BWA' 'CAF' 'CAN' 'CHE' 'CHI' 'CHL'\n",
      " 'CHN' 'CIV' 'CMR' 'COG' 'COL' 'COM' 'CPV' 'CRI' 'CSS' 'CUB' 'CYP' 'CZE'\n",
      " 'DEU' 'DJI' 'DMA' 'DNK' 'DOM' 'DZA' 'EAP' 'EAS' 'ECA' 'ECS' 'ECU' 'EGY'\n",
      " 'EMU' 'ERI' 'ESP' 'EST' 'ETH' 'EUU' 'FIN' 'FJI' 'FRA' 'FRO' 'FSM' 'GAB'\n",
      " 'GBR' 'GEO' 'GHA' 'GIN' 'GMB' 'GNB' 'GNQ' 'GRC' 'GRD' 'GRL' 'GTM' 'GUY'\n",
      " 'HIC' 'HKG' 'HND' 'HPC' 'HRV' 'HTI' 'HUN' 'IDN' 'IMN' 'IND' 'IRL' 'IRN'\n",
      " 'IRQ' 'ISL' 'ISR' 'ITA' 'JAM' 'JOR' 'JPN' 'KAZ' 'KEN' 'KGZ' 'KHM' 'KIR'\n",
      " 'KNA' 'KOR' 'KSV' 'KWT' 'LAC' 'LAO' 'LBN' 'LBR' 'LBY' 'LCA' 'LCN' 'LDC'\n",
      " 'LIC' 'LIE' 'LKA' 'LMC' 'LMY' 'LSO' 'LTU' 'LUX' 'LVA' 'MAC' 'MAR' 'MCO'\n",
      " 'MDA' 'MDG' 'MDV' 'MEA' 'MEX' 'MHL' 'MIC' 'MKD' 'MLI' 'MLT' 'MNA' 'MNE'\n",
      " 'MNG' 'MOZ' 'MRT' 'MUS' 'MWI' 'MYS' 'NAC' 'NAM' 'NER' 'NGA' 'NIC' 'NLD'\n",
      " 'NOC' 'NOR' 'NPL' 'NZL' 'OEC' 'OED' 'OMN' 'OSS' 'PAK' 'PAN' 'PER' 'PHL'\n",
      " 'PLW' 'PNG' 'POL' 'PRI' 'PRT' 'PRY' 'PSS' 'QAT' 'ROU' 'RUS' 'RWA' 'SAS'\n",
      " 'SAU' 'SDN' 'SEN' 'SGP' 'SLB' 'SLE' 'SLV' 'SMR' 'SRB' 'SSA' 'SSD' 'SSF'\n",
      " 'SST' 'STP' 'SUR' 'SVK' 'SVN' 'SWE' 'SWZ' 'SYC' 'SYR' 'TCD' 'TGO' 'THA'\n",
      " 'TJK' 'TKM' 'TLS' 'TON' 'TTO' 'TUN' 'TUR' 'TUV' 'TZA' 'UGA' 'UKR' 'UMC'\n",
      " 'URY' 'USA' 'UZB' 'VCT' 'VEN' 'VNM' 'VUT' 'PSE' 'WLD' 'WSM' 'YEM' 'ZAF'\n",
      " 'COD' 'ZMB' 'ZWE']\n",
      "\n",
      "--------------------\n",
      "\n",
      "Column: year\n",
      "[2004 2005 2006 2007 2008 2009 2010 2011 2012]\n",
      "\n",
      "--------------------\n",
      "\n",
      "Column: gdp_per_capita\n",
      "[22566.68216   29372.16674     220.0562878 ...   261.836335   1462.887261\n",
      "   714.2330072]\n",
      "\n",
      "--------------------\n",
      "\n"
     ]
    }
   ],
   "source": [
    "print_unique_values(per_capita_df)"
   ]
  },
  {
   "cell_type": "code",
   "execution_count": 207,
   "metadata": {},
   "outputs": [
    {
     "name": "stdout",
     "output_type": "stream",
     "text": [
      "Column: country_code\n",
      "['ABW' 'AFG' 'AGO' 'AIA' 'ALA' 'ALB' 'AND' 'ANT' 'ARE' 'ARG' 'ARM' 'ASM'\n",
      " 'ATA' 'ATF' 'ATG' 'AUS' 'AUT' 'AZE' 'BDI' 'BEL' 'BEN' 'BES' 'BFA' 'BGD'\n",
      " 'BGR' 'BHR' 'BHS' 'BIH' 'BLM' 'BLR' 'BLZ' 'BMU' 'BOL' 'BRA' 'BRB' 'BRN'\n",
      " 'BTN' 'BVT' 'BWA' 'CAF' 'CAN' 'CCK' 'CHE' 'CHL' 'CHN' 'CIV' 'CMR' 'COD'\n",
      " 'COG' 'COK' 'COL' 'COM' 'CPV' 'CRI' 'CUB' 'CUW' 'CXR' 'CYM' 'CYP' 'CZE'\n",
      " 'DEU' 'DJI' 'DMA' 'DNK' 'DOM' 'DZA' 'ECU' 'EGY' 'ERI' 'ESH' 'ESP' 'EST'\n",
      " 'ETH' 'FIN' 'FJI' 'FLK' 'FRA' 'FRO' 'FSM' 'GAB' 'GBR' 'GEO' 'GGY' 'GHA'\n",
      " 'GIB' 'GIN' 'GLP' 'GMB' 'GNB' 'GNQ' 'GRC' 'GRD' 'GRL' 'GTM' 'GUF' 'GUM'\n",
      " 'GUY' 'HKG' 'HMD' 'HND' 'HRV' 'HTI' 'HUN' 'IDN' 'IMN' 'IND' 'IOT' 'IRL'\n",
      " 'IRN' 'IRQ' 'ISL' 'ISR' 'ITA' 'JAM' 'JEY' 'JOR' 'JPN' 'KAZ' 'KEN' 'KGZ'\n",
      " 'KHM' 'KIR' 'KNA' 'KOR' 'KWT' 'LAO' 'LBN' 'LBR' 'LBY' 'LCA' 'LIE' 'LKA'\n",
      " 'LSO' 'LTU' 'LUX' 'LVA' 'MAC' 'MAF' 'MAR' 'MCO' 'MDA' 'MDG' 'MDV' 'MEX'\n",
      " 'MHL' 'MKD' 'MLI' 'MLT' 'MMR' 'MNE' 'MNG' 'MNP' 'MOZ' 'MRT' 'MSR' 'MTQ'\n",
      " 'MUS' 'MWI' 'MYS' 'MYT' 'NAM' 'NCL' 'NER' 'NFK' 'NGA' 'NIC' 'NIU' 'NLD'\n",
      " 'NOR' 'NPL' 'NRU' nan 'NZL' 'OMN' 'PAK' 'PAN' 'PCN' 'PER' 'PHL' 'PLW'\n",
      " 'PNG' 'POL' 'PRI' 'PRK' 'PRT' 'PRY' 'PSE' 'PYF' 'QAT' 'REU' 'ROU' 'RUS'\n",
      " 'RWA' 'SAU' 'SDN' 'SEN' 'SGP' 'SGS' 'SHN' 'SJM' 'SLB' 'SLE' 'SLV' 'SMR'\n",
      " 'SOM' 'SPM' 'SRB' 'SSD' 'STP' 'SUR' 'SVK' 'SVN' 'SWE' 'SWZ' 'SXM' 'SYC'\n",
      " 'SYR' 'TCA' 'TCD' 'TGO' 'THA' 'TJK' 'TKL' 'TKM' 'TLS' 'TON' 'TTO' 'TUN'\n",
      " 'TUR' 'TUV' 'TWN' 'TZA' 'UGA' 'UKR' 'UMI' 'URY' 'USA' 'UZB' 'VAT' 'VCT'\n",
      " 'VEN' 'VGB' 'VIR' 'VNM' 'VUT' 'WLF' 'WSM' 'YEM' 'ZAF' 'ZMB' 'ZWE']\n",
      "\n",
      "--------------------\n",
      "\n",
      "Column: continent_code\n",
      "[nan 'AS' 'AF' 'EU' 'SA' 'OC' 'AN']\n",
      "\n",
      "--------------------\n",
      "\n"
     ]
    }
   ],
   "source": [
    "print_unique_values(continent_map_df)"
   ]
  },
  {
   "cell_type": "markdown",
   "metadata": {},
   "source": [
    "_ _ _ "
   ]
  },
  {
   "cell_type": "markdown",
   "metadata": {},
   "source": [
    "### `Connecting to MySQL`"
   ]
  },
  {
   "cell_type": "code",
   "execution_count": 208,
   "metadata": {},
   "outputs": [],
   "source": [
    "# Now I create the MySQL connection\n",
    "# -----------------------------------------------------------------------\n",
    "cnx = mysql.connector.connect(user='root', password='AlumnaAdalab',\n",
    "                              host='127.0.0.1')\n",
    "\n",
    "\n",
    "# Create a cursor object to interact with the database\n",
    "mycursor = cnx.cursor()\n",
    "# Select the database\n",
    "mycursor.execute(\"USE honei_1\")"
   ]
  },
  {
   "cell_type": "markdown",
   "metadata": {},
   "source": [
    "_ _ _"
   ]
  },
  {
   "cell_type": "markdown",
   "metadata": {},
   "source": [
    "### `Data Import`"
   ]
  },
  {
   "cell_type": "code",
   "execution_count": 209,
   "metadata": {},
   "outputs": [],
   "source": [
    "# Function to import data from a DataFrame to MySQL\n",
    "# -----------------------------------------------------------------------\n",
    "def import_to_mysql(cnx, df, table_name):\n",
    "    # Create a cursor object to interact with the database\n",
    "    cursor = cnx.cursor()\n",
    "    # Convert the DataFrame columns to a comma-separated string\n",
    "    cols = \",\".join([str(i) for i in df.columns.tolist()])\n",
    "    \n",
    "    # Iterate over each row in the DataFrame\n",
    "    for i, row in df.iterrows():\n",
    "        # Prepare the SQL INSERT statement with placeholders for the row values\n",
    "        sql = f\"INSERT INTO {table_name} ({cols}) VALUES ({'%s, ' * (len(row) - 1)}%s)\"\n",
    "        # Execute the SQL statement with the row values\n",
    "        cursor.execute(sql, tuple(row))\n",
    "    \n",
    "    # Commit the transaction to save changes\n",
    "    cnx.commit()\n",
    "    # Close the cursor\n",
    "    cursor.close()"
   ]
  },
  {
   "cell_type": "code",
   "execution_count": 210,
   "metadata": {},
   "outputs": [
    {
     "name": "stdout",
     "output_type": "stream",
     "text": [
      "Data imported successfully\n"
     ]
    }
   ],
   "source": [
    "# Calling the Function\n",
    "# Commented out to prevent it from running on every 'Run All' execution. Uncomment to activate.\n",
    "# -----------------------------------------------------------------------\n",
    "\n",
    "import_to_mysql(cnx, continents_df, 'continents')\n",
    "import_to_mysql(cnx, countries_df, 'countries' )\n",
    "import_to_mysql(cnx, per_capita_df, 'per_capita')\n",
    "import_to_mysql(cnx, continent_map_df, 'continent_map')\n",
    "\n",
    "print(\"Data imported successfully\")"
   ]
  },
  {
   "cell_type": "markdown",
   "metadata": {},
   "source": [
    "                                                                                         THE END                                                                                                   "
   ]
  }
 ],
 "metadata": {
  "kernelspec": {
   "display_name": "Python 3",
   "language": "python",
   "name": "python3"
  },
  "language_info": {
   "codemirror_mode": {
    "name": "ipython",
    "version": 3
   },
   "file_extension": ".py",
   "mimetype": "text/x-python",
   "name": "python",
   "nbconvert_exporter": "python",
   "pygments_lexer": "ipython3",
   "version": "3.11.9"
  }
 },
 "nbformat": 4,
 "nbformat_minor": 2
}
